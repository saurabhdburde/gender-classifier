{
  "nbformat": 4,
  "nbformat_minor": 0,
  "metadata": {
    "colab": {
      "name": "Gender Classifier.ipynb",
      "provenance": [],
      "collapsed_sections": [],
      "mount_file_id": "1zfMVR5EePPHNuJrPu0vFiITMffwKcNyC",
      "authorship_tag": "ABX9TyMZrELukoY9t/a/l+3e6CES",
      "include_colab_link": true
    },
    "kernelspec": {
      "name": "python3",
      "display_name": "Python 3"
    },
    "language_info": {
      "name": "python"
    }
  },
  "cells": [
    {
      "cell_type": "markdown",
      "metadata": {
        "id": "view-in-github",
        "colab_type": "text"
      },
      "source": [
        "<a href=\"https://colab.research.google.com/github/saurabhdburde/gender-classifier/blob/main/Gender_Classifier.ipynb\" target=\"_parent\"><img src=\"https://colab.research.google.com/assets/colab-badge.svg\" alt=\"Open In Colab\"/></a>"
      ]
    },
    {
      "cell_type": "markdown",
      "source": [
        "#<b><u>Gender Classification of Names</u></b>\n",
        "\n",
        "### Using Machine Learning To Detect/Predict Gender of Individuals From their Names\n",
        "* Sklearn\n",
        "* Pandas\n",
        "* Text Extraction"
      ],
      "metadata": {
        "id": "tVlVPEi1YEX4"
      }
    },
    {
      "cell_type": "code",
      "execution_count": 1,
      "metadata": {
        "id": "qe5hPCujX4Mc"
      },
      "outputs": [],
      "source": [
        "# EDA packages\n",
        "import numpy as np\n",
        "import pandas as pd"
      ]
    },
    {
      "cell_type": "code",
      "source": [
        "# ML Packages\n",
        "from sklearn.feature_extraction.text import CountVectorizer\n",
        "from sklearn.feature_extraction import DictVectorizer\n",
        "from sklearn.feature_extraction.text import TfidfVectorizer"
      ],
      "metadata": {
        "id": "6Mv3OjAuYnpo"
      },
      "execution_count": 2,
      "outputs": []
    },
    {
      "cell_type": "code",
      "source": [
        "# Load our Data\n",
        "df = pd.read_csv('/content/drive/MyDrive/Project/9 - Gender Classifier/names_dataset.csv')"
      ],
      "metadata": {
        "id": "aaoTBLsHZaAD"
      },
      "execution_count": 3,
      "outputs": []
    },
    {
      "cell_type": "code",
      "source": [
        ""
      ],
      "metadata": {
        "id": "eCajC6XtZ2KE"
      },
      "execution_count": null,
      "outputs": []
    }
  ]
}